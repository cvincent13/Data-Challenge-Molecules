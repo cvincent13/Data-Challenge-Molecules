{
 "cells": [
  {
   "cell_type": "code",
   "execution_count": 1,
   "metadata": {},
   "outputs": [
    {
     "name": "stderr",
     "output_type": "stream",
     "text": [
      "/home/cedric/.local/lib/python3.10/site-packages/tqdm/auto.py:21: TqdmWarning: IProgress not found. Please update jupyter and ipywidgets. See https://ipywidgets.readthedocs.io/en/stable/user_install.html\n",
      "  from .autonotebook import tqdm as notebook_tqdm\n"
     ]
    }
   ],
   "source": [
    "from torch_geometric.loader import DataLoader\n",
    "from Model import GraphCL\n",
    "import numpy as np\n",
    "\n",
    "import torch\n",
    "from torch import optim\n",
    "import time\n",
    "import os\n",
    "import json\n",
    "\n",
    "from dataloader import GraphDatasetPretrain, AddRWStructEncoding\n",
    "from dataloader import drop_node_augment, edge_pert_augment, attr_mask_augment, subgraph_augment"
   ]
  },
  {
   "cell_type": "code",
   "execution_count": 2,
   "metadata": {},
   "outputs": [],
   "source": [
    "with open('graph_config.json') as f:\n",
    "    graph_config = json.load(f)\n",
    "\n",
    "device = torch.device(\"cuda\" if torch.cuda.is_available() else \"cpu\")\n",
    "\n",
    "walk_length = graph_config['walk_length']\n",
    "nb_epochs = graph_config['pretraining_epochs']\n",
    "batch_size = graph_config['pretraining_batch_size']\n",
    "learning_rate = graph_config['pretraining_lr']"
   ]
  },
  {
   "cell_type": "code",
   "execution_count": 3,
   "metadata": {},
   "outputs": [],
   "source": [
    "gt = np.load(\"./data/token_embedding_dict.npy\", allow_pickle=True)[()]\n",
    "\n",
    "val_dataset = GraphDatasetPretrain(root='./data/', gt=gt, split='val', \n",
    "                                   graph_augment1=attr_mask_augment, graph_augment2=subgraph_augment, \n",
    "                                   aug_p=0.2, graph_transform=AddRWStructEncoding(walk_length))\n",
    "train_dataset = GraphDatasetPretrain(root='./data/', gt=gt, split='train',\n",
    "                                     graph_augment1=attr_mask_augment, graph_augment2=subgraph_augment,\n",
    "                                     aug_p=0.2, graph_transform=AddRWStructEncoding(walk_length))\n",
    "\n",
    "val_loader = DataLoader(val_dataset, batch_size=batch_size, shuffle=True)\n",
    "train_loader = DataLoader(train_dataset, batch_size=batch_size, shuffle=True)"
   ]
  },
  {
   "cell_type": "code",
   "execution_count": 4,
   "metadata": {},
   "outputs": [],
   "source": [
    "model = GraphCL(graph_config, 64, 128)\n",
    "model.to(device)\n",
    "\n",
    "CE = torch.nn.CrossEntropyLoss()\n",
    "def contrastive_loss(v1, v2):\n",
    "  logits = torch.matmul(v1,torch.transpose(v2, 0, 1))\n",
    "  labels = torch.arange(logits.shape[0], device=v1.device)\n",
    "  return CE(logits, labels) + CE(torch.transpose(logits, 0, 1), labels)\n",
    "\n",
    "optimizer = optim.AdamW(model.parameters(), lr=learning_rate,\n",
    "                                betas=(0.9, 0.999),\n",
    "                                weight_decay=0.01)"
   ]
  },
  {
   "cell_type": "code",
   "execution_count": 5,
   "metadata": {},
   "outputs": [
    {
     "name": "stdout",
     "output_type": "stream",
     "text": [
      "Number of parameters: 386,260\n"
     ]
    }
   ],
   "source": [
    "params = sum(p.numel() for p in model.parameters())\n",
    "print(f'Number of parameters: {params:,}')"
   ]
  },
  {
   "cell_type": "code",
   "execution_count": 6,
   "metadata": {},
   "outputs": [],
   "source": [
    "def train_one_epoch(model, train_loader, criterion, optimizer, losses, device, count_iter, printEvery, time1):\n",
    "    loss = 0\n",
    "    model.train()\n",
    "    for batch in train_loader:\n",
    "        aug_batch1, aug_batch2 = batch\n",
    "        x_1 = model(aug_batch1.to(device))\n",
    "        x_2 = model(aug_batch2.to(device))\n",
    "        \n",
    "        current_loss = criterion(x_1, x_2)   \n",
    "        optimizer.zero_grad()\n",
    "        current_loss.backward()\n",
    "        optimizer.step()\n",
    "        loss += current_loss.item()\n",
    "        \n",
    "        count_iter += 1\n",
    "        if count_iter % printEvery == 0:\n",
    "            time2 = time.time()\n",
    "            print(\"Iteration: {0}, Time: {1:.4f} s, training loss: {2:.4f}\".format(count_iter,\n",
    "                                                                        time2 - time1, loss/printEvery))\n",
    "            losses.append(loss)\n",
    "            loss = 0 \n",
    "\n",
    "    return losses, count_iter\n",
    "\n",
    "\n",
    "def eval(model, val_loader, criterion, device):\n",
    "    model.eval()       \n",
    "    val_loss = 0        \n",
    "    for batch in val_loader:\n",
    "        aug_batch1, aug_batch2 = batch\n",
    "        with torch.no_grad():\n",
    "            x_1 = model(aug_batch1.to(device))\n",
    "            x_2 = model(aug_batch2.to(device))\n",
    "\n",
    "            current_loss = criterion(x_1, x_2)   \n",
    "            val_loss += current_loss.item()\n",
    "\n",
    "    return val_loss"
   ]
  },
  {
   "cell_type": "code",
   "execution_count": 7,
   "metadata": {},
   "outputs": [
    {
     "name": "stdout",
     "output_type": "stream",
     "text": [
      "-----EPOCH 1-----\n",
      "Iteration: 50, Time: 29.0460 s, training loss: 3.5580\n",
      "Iteration: 100, Time: 57.9286 s, training loss: 1.9374\n",
      "Iteration: 150, Time: 86.1851 s, training loss: 1.4801\n",
      "Iteration: 200, Time: 114.4290 s, training loss: 1.2254\n",
      "Iteration: 250, Time: 141.5855 s, training loss: 1.0528\n",
      "Iteration: 300, Time: 168.7036 s, training loss: 1.0040\n",
      "Iteration: 350, Time: 196.1512 s, training loss: 0.9999\n",
      "Iteration: 400, Time: 224.4065 s, training loss: 0.9759\n",
      "Iteration: 450, Time: 253.0216 s, training loss: 0.7753\n",
      "Iteration: 500, Time: 280.8928 s, training loss: 0.7988\n",
      "Iteration: 550, Time: 309.7913 s, training loss: 0.7355\n",
      "Iteration: 600, Time: 337.5898 s, training loss: 0.7549\n",
      "Iteration: 650, Time: 364.8761 s, training loss: 0.8303\n",
      "Iteration: 700, Time: 394.5389 s, training loss: 0.5942\n",
      "Iteration: 750, Time: 423.9180 s, training loss: 0.6129\n",
      "Iteration: 800, Time: 456.3056 s, training loss: 0.5587\n",
      "-----EPOCH 1----- done.  Validation loss:  0.5284083162933851\n",
      "-----EPOCH 2-----\n",
      "Iteration: 850, Time: 521.7640 s, training loss: 0.2525\n",
      "Iteration: 900, Time: 552.9876 s, training loss: 0.5920\n",
      "Iteration: 950, Time: 584.0247 s, training loss: 0.6311\n",
      "Iteration: 1000, Time: 614.9511 s, training loss: 0.4954\n",
      "Iteration: 1050, Time: 644.3823 s, training loss: 0.4643\n",
      "Iteration: 1100, Time: 676.3819 s, training loss: 0.5094\n",
      "Iteration: 1150, Time: 707.3623 s, training loss: 0.5879\n",
      "Iteration: 1200, Time: 739.9135 s, training loss: 0.5073\n",
      "Iteration: 1250, Time: 770.9397 s, training loss: 0.5192\n",
      "Iteration: 1300, Time: 803.0508 s, training loss: 0.5534\n",
      "Iteration: 1350, Time: 833.7072 s, training loss: 0.4542\n",
      "Iteration: 1400, Time: 864.0121 s, training loss: 0.4155\n",
      "Iteration: 1450, Time: 896.5423 s, training loss: 0.4466\n",
      "Iteration: 1500, Time: 929.1546 s, training loss: 0.4790\n",
      "Iteration: 1550, Time: 962.4346 s, training loss: 0.4711\n",
      "Iteration: 1600, Time: 993.8195 s, training loss: 0.4666\n",
      "Iteration: 1650, Time: 1025.3031 s, training loss: 0.4767\n",
      "-----EPOCH 2----- done.  Validation loss:  0.37711601783163273\n",
      "-----EPOCH 3-----\n",
      "Iteration: 1700, Time: 1089.5461 s, training loss: 0.4211\n",
      "Iteration: 1750, Time: 1121.2204 s, training loss: 0.4253\n",
      "Iteration: 1800, Time: 1154.2261 s, training loss: 0.4419\n",
      "Iteration: 1850, Time: 1185.7053 s, training loss: 0.4931\n",
      "Iteration: 1900, Time: 1218.0260 s, training loss: 0.4607\n",
      "Iteration: 1950, Time: 1249.4815 s, training loss: 0.4394\n",
      "Iteration: 2000, Time: 1280.4103 s, training loss: 0.4601\n",
      "Iteration: 2050, Time: 1313.3707 s, training loss: 0.4655\n",
      "Iteration: 2100, Time: 1345.4427 s, training loss: 0.5440\n",
      "Iteration: 2150, Time: 1376.0411 s, training loss: 0.4529\n",
      "Iteration: 2200, Time: 1406.5416 s, training loss: 0.3506\n",
      "Iteration: 2250, Time: 1437.7424 s, training loss: 0.3604\n",
      "Iteration: 2300, Time: 1467.9530 s, training loss: 0.3066\n",
      "Iteration: 2350, Time: 1499.3072 s, training loss: 0.3388\n",
      "Iteration: 2400, Time: 1531.3245 s, training loss: 0.3718\n",
      "Iteration: 2450, Time: 1562.0251 s, training loss: 0.4040\n",
      "-----EPOCH 3----- done.  Validation loss:  0.24579238052711633\n",
      "-----EPOCH 4-----\n",
      "Iteration: 2500, Time: 1624.4434 s, training loss: 0.1803\n",
      "Iteration: 2550, Time: 1654.8657 s, training loss: 0.3178\n",
      "Iteration: 2600, Time: 1685.9547 s, training loss: 0.3221\n",
      "Iteration: 2650, Time: 1721.1217 s, training loss: 0.3138\n",
      "Iteration: 2700, Time: 1752.5194 s, training loss: 0.3549\n",
      "Iteration: 2750, Time: 1783.4995 s, training loss: 0.3339\n",
      "Iteration: 2800, Time: 1815.4028 s, training loss: 0.3952\n",
      "Iteration: 2850, Time: 1849.5630 s, training loss: 0.4049\n",
      "Iteration: 2900, Time: 1881.2025 s, training loss: 0.3682\n",
      "Iteration: 2950, Time: 1914.0998 s, training loss: 0.3857\n",
      "Iteration: 3000, Time: 1945.3607 s, training loss: 0.2916\n",
      "Iteration: 3050, Time: 1975.0875 s, training loss: 0.3336\n",
      "Iteration: 3100, Time: 2006.6258 s, training loss: 0.3042\n",
      "Iteration: 3150, Time: 2040.4050 s, training loss: 0.2555\n",
      "Iteration: 3200, Time: 2076.2342 s, training loss: 0.3094\n",
      "Iteration: 3250, Time: 2113.9051 s, training loss: 0.3007\n",
      "Iteration: 3300, Time: 2150.7085 s, training loss: 0.2345\n",
      "-----EPOCH 4----- done.  Validation loss:  0.24065734986932233\n",
      "-----EPOCH 5-----\n",
      "Iteration: 3350, Time: 2220.7192 s, training loss: 0.2946\n",
      "Iteration: 3400, Time: 2257.6578 s, training loss: 0.3174\n",
      "Iteration: 3450, Time: 2291.4458 s, training loss: 0.2984\n",
      "Iteration: 3500, Time: 2325.7244 s, training loss: 0.2646\n",
      "Iteration: 3550, Time: 2359.7556 s, training loss: 0.2379\n",
      "Iteration: 3600, Time: 2394.2002 s, training loss: 0.2848\n",
      "Iteration: 3650, Time: 2427.3083 s, training loss: 0.3167\n",
      "Iteration: 3700, Time: 2463.6694 s, training loss: 0.3226\n",
      "Iteration: 3750, Time: 2495.1675 s, training loss: 0.2838\n",
      "Iteration: 3800, Time: 2525.5369 s, training loss: 0.2424\n",
      "Iteration: 3850, Time: 2557.6098 s, training loss: 0.3088\n",
      "Iteration: 3900, Time: 2589.5279 s, training loss: 0.2692\n",
      "Iteration: 3950, Time: 2621.5823 s, training loss: 0.3031\n",
      "Iteration: 4000, Time: 2653.0662 s, training loss: 0.2742\n",
      "Iteration: 4050, Time: 2687.8595 s, training loss: 0.2455\n",
      "Iteration: 4100, Time: 2722.2064 s, training loss: 0.2363\n",
      "-----EPOCH 5----- done.  Validation loss:  0.2168620425692587\n"
     ]
    }
   ],
   "source": [
    "epoch = 0\n",
    "losses = []\n",
    "count_iter = 0\n",
    "time1 = time.time()\n",
    "printEvery = 50\n",
    "best_validation_loss = 1000000\n",
    "\n",
    "for i in range(nb_epochs):\n",
    "    print('-----EPOCH {}-----'.format(i+1))\n",
    "    losses, count_iter = train_one_epoch(model, train_loader, contrastive_loss, optimizer, losses, device, count_iter, printEvery, time1)\n",
    "\n",
    "    val_loss = eval(model, val_loader, contrastive_loss, device)\n",
    "\n",
    "    best_validation_loss = min(best_validation_loss, val_loss)\n",
    "\n",
    "    print('-----EPOCH '+str(i+1)+'----- done.  Validation loss: ', str(val_loss/len(val_loader)) )"
   ]
  },
  {
   "cell_type": "code",
   "execution_count": 8,
   "metadata": {},
   "outputs": [
    {
     "name": "stdout",
     "output_type": "stream",
     "text": [
      "checkpoint saved to: ./graph_checkpoints/4_deep_20_64_Gated.pt\n"
     ]
    }
   ],
   "source": [
    "save_name = str(i) + '_' + graph_config['graph_model_name'] + '_' + str(graph_config['graph_layers']) + '_' + str(graph_config['graph_hidden_channels']) + '_' + graph_config['conv_type']\n",
    "\n",
    "save_path = os.path.join('./graph_checkpoints', save_name +'.pt')\n",
    "torch.save({\n",
    "        'epoch': i,\n",
    "        'model_state_dict': model.graph_base.state_dict(),\n",
    "        'validation_accuracy': val_loss,\n",
    "        'loss': losses[-1],\n",
    "        }, save_path)\n",
    "print('checkpoint saved to: {}'.format(save_path))"
   ]
  },
  {
   "cell_type": "code",
   "execution_count": 8,
   "metadata": {},
   "outputs": [],
   "source": [
    "import torch.nn as nn\n",
    "import torch.nn.functional as F"
   ]
  },
  {
   "cell_type": "code",
   "execution_count": 98,
   "metadata": {},
   "outputs": [],
   "source": [
    "class MultiHeadAttention(nn.Module):\n",
    "    def __init__(self, n_hidden, n_head, dropout):\n",
    "        super(MultiHeadAttention, self).__init__()\n",
    "        self.n_head = n_head\n",
    "        self.n_hidden = n_hidden\n",
    "        self.dim_head = n_hidden//n_head\n",
    "\n",
    "        self.Q = nn.Linear(n_hidden, self.dim_head * n_head)\n",
    "        self.K = nn.Linear(n_hidden, self.dim_head * n_head)\n",
    "        self.V = nn.Linear(n_hidden, self.dim_head * n_head)\n",
    "\n",
    "        self.out_dropout = nn.Dropout(dropout)\n",
    "        self.O = nn.Linear(n_hidden, n_hidden)\n",
    "\n",
    "    def forward(self, x, attention_mask=None, padding_mask=None):\n",
    "        batch_size = x.size(0)\n",
    "        seq_length = x.size(1)\n",
    "\n",
    "        Q_x = self.Q(x).view(batch_size, -1, self.n_head, self.dim_head).permute((0,2,1,3))\n",
    "        K_x = self.K(x).view(batch_size, -1, self.n_head, self.dim_head).permute((0,2,1,3))\n",
    "        V_x = self.K(x).view(batch_size, -1, self.n_head, self.dim_head).permute((0,2,1,3))\n",
    "\n",
    "        padding_mask = padding_mask.view(batch_size, 1, 1, seq_length).expand(-1, self.n_head, -1, -1) * -1e9\n",
    "\n",
    "        scores = F.softmax(padding_mask + (Q_x @ K_x.transpose(-2,-1))/np.sqrt(self.dim_head), dim=-1)\n",
    "\n",
    "        attended_values = torch.matmul(scores, V_x)\n",
    "        attended_values = attended_values.permute((0,2,1,3)).contiguous().view(batch_size, -1, self.n_hidden)\n",
    "\n",
    "        attended_values = self.out_dropout(attended_values)\n",
    "        x = self.O(attended_values)\n",
    "\n",
    "        scores = scores.detach().cpu().numpy()\n",
    "\n",
    "        return x, scores"
   ]
  },
  {
   "cell_type": "code",
   "execution_count": 22,
   "metadata": {},
   "outputs": [],
   "source": [
    "batch = next(iter(train_loader))\n",
    "batch1, batch2 = batch"
   ]
  },
  {
   "cell_type": "code",
   "execution_count": 23,
   "metadata": {},
   "outputs": [
    {
     "data": {
      "text/plain": [
       "DataBatch(x=[1267, 64], edge_index=[2, 2638], rwse=[1267, 20], batch=[1267], ptr=[33])"
      ]
     },
     "execution_count": 23,
     "metadata": {},
     "output_type": "execute_result"
    }
   ],
   "source": [
    "class RWSEEncoder(nn.Module):\n",
    "    def __init__(self, num_node_features, n_hidden, walk_length, dim_se, input_dropout):\n",
    "        super(RWSEEncoder, self).__init__()\n",
    "        self.embedding_x = nn.Linear(num_node_features, n_hidden-dim_se)\n",
    "        self.norm = nn.BatchNorm1d(walk_length)\n",
    "        self.embedding_se = nn.Linear(walk_length, dim_se)\n",
    "        self.in_dropout = nn.Dropout(input_dropout)\n",
    "\n",
    "    def forward(self, batch):\n",
    "        rwse = batch.rwse\n",
    "        rwse = self.norm(rwse)\n",
    "        rwse = self.embedding_se(rwse)\n",
    "        x = self.embedding_x(batch.x)\n",
    "        x = torch.cat((x, rwse), 1)\n",
    "        batch.x = self.in_dropout(x)\n",
    "        return batch\n",
    "    \n",
    "enc = RWSEEncoder(300, 64, 20, 28, 0.0)\n",
    "batch1 = enc(batch1)\n",
    "batch1"
   ]
  },
  {
   "cell_type": "code",
   "execution_count": 33,
   "metadata": {},
   "outputs": [],
   "source": [
    "mh = nn.MultiheadAttention(64, 4, 0.0, batch_first=True)"
   ]
  },
  {
   "cell_type": "code",
   "execution_count": 99,
   "metadata": {},
   "outputs": [],
   "source": [
    "mh = MultiHeadAttention(64, 4, 0.0)"
   ]
  },
  {
   "cell_type": "code",
   "execution_count": 47,
   "metadata": {},
   "outputs": [],
   "source": [
    "from torch_geometric.utils import to_dense_batch\n",
    "x_att, mask = to_dense_batch(batch1.x, batch1.batch)"
   ]
  },
  {
   "cell_type": "code",
   "execution_count": 100,
   "metadata": {},
   "outputs": [],
   "source": [
    "out = mh(x_att, padding_mask=~mask)"
   ]
  },
  {
   "cell_type": "code",
   "execution_count": 101,
   "metadata": {},
   "outputs": [],
   "source": [
    "outx, scores = out"
   ]
  },
  {
   "cell_type": "code",
   "execution_count": 104,
   "metadata": {},
   "outputs": [
    {
     "data": {
      "text/plain": [
       "torch.Size([1267, 64])"
      ]
     },
     "execution_count": 104,
     "metadata": {},
     "output_type": "execute_result"
    }
   ],
   "source": [
    "outx[mask].shape"
   ]
  },
  {
   "cell_type": "code",
   "execution_count": 103,
   "metadata": {},
   "outputs": [
    {
     "data": {
      "image/png": "[encoded data removed]",
      "text/plain": [
       "<Figure size 800x800 with 1 Axes>"
      ]
     },
     "metadata": {},
     "output_type": "display_data"
    }
   ],
   "source": [
    "import matplotlib.pyplot as plt\n",
    "fig, ax = plt.subplots(figsize=(8,8))\n",
    "im = ax.imshow(scores[5, 0], cmap='gray')\n",
    "ax.xaxis.tick_top()\n",
    "\n",
    "plt.show()"
   ]
  },
  {
   "cell_type": "code",
   "execution_count": null,
   "metadata": {},
   "outputs": [],
   "source": []
  }
 ],
 "metadata": {
  "kernelspec": {
   "display_name": "altegrad",
   "language": "python",
   "name": "python3"
  },
  "language_info": {
   "codemirror_mode": {
    "name": "ipython",
    "version": 3
   },
   "file_extension": ".py",
   "mimetype": "text/x-python",
   "name": "python",
   "nbconvert_exporter": "python",
   "pygments_lexer": "ipython3",
   "version": "3.10.13"
  }
 },
 "nbformat": 4,
 "nbformat_minor": 2
}
